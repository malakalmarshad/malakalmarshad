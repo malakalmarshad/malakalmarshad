{
  "nbformat": 4,
  "nbformat_minor": 0,
  "metadata": {
    "colab": {
      "name": "Merg2CSVusingCol.ipynb",
      "provenance": [],
      "authorship_tag": "ABX9TyMzKzbHoFMreD1XrsaWitNd",
      "include_colab_link": true
    },
    "kernelspec": {
      "name": "python3",
      "display_name": "Python 3"
    },
    "language_info": {
      "name": "python"
    }
  },
  "cells": [
    {
      "cell_type": "markdown",
      "metadata": {
        "id": "view-in-github",
        "colab_type": "text"
      },
      "source": [
        "<a href=\"https://colab.research.google.com/github/malakalmarshad/malakalmarshad/blob/main/Merg2CSVusingCol.ipynb\" target=\"_parent\"><img src=\"https://colab.research.google.com/assets/colab-badge.svg\" alt=\"Open In Colab\"/></a>"
      ]
    },
    {
      "cell_type": "code",
      "execution_count": 11,
      "metadata": {
        "colab": {
          "base_uri": "https://localhost:8080/"
        },
        "id": "kqhzPX_MiFKz",
        "outputId": "a552224a-1524-425a-88fa-f99b33f7d4fe"
      },
      "outputs": [
        {
          "output_type": "stream",
          "name": "stdout",
          "text": [
            "             Time  9:33:33 PM  Unnamed: 2           Type Stage  Epoch  \\\n",
            "0      9:33:34 PM        97.0         NaN            NaN   NaN    NaN   \n",
            "1      9:33:35 PM        97.0         NaN            NaN   NaN    NaN   \n",
            "2      9:33:36 PM        97.0         NaN            NaN   NaN    NaN   \n",
            "3      9:33:37 PM        97.0         NaN            NaN   NaN    NaN   \n",
            "4      9:33:38 PM        97.0         NaN            NaN   NaN    NaN   \n",
            "...           ...         ...         ...            ...   ...    ...   \n",
            "29007  9:33:33 PM         NaN         NaN   Gain (Micro)    WK    1.0   \n",
            "29008  9:33:33 PM         NaN         NaN  Gain (CSnore)    WK    1.0   \n",
            "29009  9:33:33 PM         NaN         NaN    Gain (LEG1)    WK    1.0   \n",
            "29010  9:33:33 PM         NaN         NaN    Gain (LEG2)    WK    1.0   \n",
            "29011  9:33:33 PM         NaN         NaN   Gain (UEMG1)    WK    1.0   \n",
            "\n",
            "       Duration Body Position      Validation  \n",
            "0           NaN           NaN             NaN  \n",
            "1           NaN           NaN             NaN  \n",
            "2           NaN           NaN             NaN  \n",
            "3           NaN           NaN             NaN  \n",
            "4           NaN           NaN             NaN  \n",
            "...         ...           ...             ...  \n",
            "29007       0.0            Up  Automatic Gain  \n",
            "29008       0.0            Up  Automatic Gain  \n",
            "29009       0.0            Up  Automatic Gain  \n",
            "29010       0.0            Up  Automatic Gain  \n",
            "29011       0.0            Up  Automatic Gain  \n",
            "\n",
            "[29012 rows x 9 columns]\n"
          ]
        }
      ],
      "source": [
        "import pandas as pd\n",
        "  \n",
        "# reading csv files\n",
        "data1 = pd.read_csv('SpO2.csv')\n",
        "data2 = pd.read_csv('eventlistspo2.csv')\n",
        "  \n",
        "# using merge function by setting how='outer'\n",
        "output4 = pd.merge(data1, data2, \n",
        "                   on='Time', \n",
        "                   how='outer')\n",
        "  \n",
        "# displaying result\n",
        "print(output4)"
      ]
    },
    {
      "cell_type": "code",
      "source": [
        "import numpy as np\n",
        "k = np.array(output4)\n",
        "output4.to_csv(\"output.csv\", index=False)\n"
      ],
      "metadata": {
        "id": "kLGljtQ1j0xa"
      },
      "execution_count": 15,
      "outputs": []
    },
    {
      "cell_type": "code",
      "source": [
        "from google.colab import files\n",
        "files.download('output.csv') "
      ],
      "metadata": {
        "colab": {
          "base_uri": "https://localhost:8080/",
          "height": 17
        },
        "id": "P8Cubxu2kwEq",
        "outputId": "1e1b7dd7-88f3-46a9-b106-9779b8ad5198"
      },
      "execution_count": 16,
      "outputs": [
        {
          "output_type": "display_data",
          "data": {
            "text/plain": [
              "<IPython.core.display.Javascript object>"
            ],
            "application/javascript": [
              "\n",
              "    async function download(id, filename, size) {\n",
              "      if (!google.colab.kernel.accessAllowed) {\n",
              "        return;\n",
              "      }\n",
              "      const div = document.createElement('div');\n",
              "      const label = document.createElement('label');\n",
              "      label.textContent = `Downloading \"${filename}\": `;\n",
              "      div.appendChild(label);\n",
              "      const progress = document.createElement('progress');\n",
              "      progress.max = size;\n",
              "      div.appendChild(progress);\n",
              "      document.body.appendChild(div);\n",
              "\n",
              "      const buffers = [];\n",
              "      let downloaded = 0;\n",
              "\n",
              "      const channel = await google.colab.kernel.comms.open(id);\n",
              "      // Send a message to notify the kernel that we're ready.\n",
              "      channel.send({})\n",
              "\n",
              "      for await (const message of channel.messages) {\n",
              "        // Send a message to notify the kernel that we're ready.\n",
              "        channel.send({})\n",
              "        if (message.buffers) {\n",
              "          for (const buffer of message.buffers) {\n",
              "            buffers.push(buffer);\n",
              "            downloaded += buffer.byteLength;\n",
              "            progress.value = downloaded;\n",
              "          }\n",
              "        }\n",
              "      }\n",
              "      const blob = new Blob(buffers, {type: 'application/binary'});\n",
              "      const a = document.createElement('a');\n",
              "      a.href = window.URL.createObjectURL(blob);\n",
              "      a.download = filename;\n",
              "      div.appendChild(a);\n",
              "      a.click();\n",
              "      div.remove();\n",
              "    }\n",
              "  "
            ]
          },
          "metadata": {}
        },
        {
          "output_type": "display_data",
          "data": {
            "text/plain": [
              "<IPython.core.display.Javascript object>"
            ],
            "application/javascript": [
              "download(\"download_339dd312-2535-4c54-bbf3-8bbbb263b171\", \"output.csv\", 704808)"
            ]
          },
          "metadata": {}
        }
      ]
    },
    {
      "cell_type": "code",
      "source": [
        ""
      ],
      "metadata": {
        "id": "1Tow5EvgoKZw"
      },
      "execution_count": null,
      "outputs": []
    }
  ]
}